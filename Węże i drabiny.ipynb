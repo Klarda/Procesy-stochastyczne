{
 "cells": [
  {
   "cell_type": "code",
   "execution_count": 3,
   "metadata": {},
   "outputs": [],
   "source": [
    "import numpy as np\n",
    "import matplotlib.pyplot as plt\n",
    "import random\n",
    "import scipy.stats as stats"
   ]
  },
  {
   "cell_type": "code",
   "execution_count": 4,
   "metadata": {},
   "outputs": [],
   "source": [
    "def rzutkostka(b): #b-liczba ścian kostki\n",
    "    a=np.random.randint(1,b+1)\n",
    "    return a"
   ]
  },
  {
   "cell_type": "code",
   "execution_count": 5,
   "metadata": {},
   "outputs": [],
   "source": [
    "def gra(b): #b-liczba ścian kostki\n",
    "    X=[0]\n",
    "    while X[-1]<24:\n",
    "        c=rzutkostka(b)\n",
    "        x=c+X[-1]\n",
    "        if x==4:\n",
    "            X.append(16)\n",
    "        elif x==12:\n",
    "            X.append(14)\n",
    "        elif x==18:\n",
    "            X.append(9)\n",
    "        elif x==23:\n",
    "            X.append(3)\n",
    "        else:\n",
    "            X.append(x)\n",
    "    return X"
   ]
  },
  {
   "cell_type": "code",
   "execution_count": 6,
   "metadata": {},
   "outputs": [],
   "source": [
    "def pred(b,n,N): #b-liczba ścian kostki, n-liczba rzutów kostki, N-wielkość próby do obliczenia populacji\n",
    "    ln=[]\n",
    "    for i in range(1,N):\n",
    "        if len(gra(b))==n:\n",
    "            ln.append(1)\n",
    "    return(len(ln)/N)"
   ]
  },
  {
   "cell_type": "code",
   "execution_count": 10,
   "metadata": {},
   "outputs": [
    {
     "data": {
      "text/plain": [
       "0.134"
      ]
     },
     "execution_count": 10,
     "metadata": {},
     "output_type": "execute_result"
    }
   ],
   "source": [
    "pred(6,8,1000)"
   ]
  },
  {
   "cell_type": "code",
   "execution_count": null,
   "metadata": {},
   "outputs": [],
   "source": []
  }
 ],
 "metadata": {
  "kernelspec": {
   "display_name": "Python 3",
   "language": "python",
   "name": "python3"
  },
  "language_info": {
   "codemirror_mode": {
    "name": "ipython",
    "version": 3
   },
   "file_extension": ".py",
   "mimetype": "text/x-python",
   "name": "python",
   "nbconvert_exporter": "python",
   "pygments_lexer": "ipython3",
   "version": "3.6.13"
  }
 },
 "nbformat": 4,
 "nbformat_minor": 2
}
